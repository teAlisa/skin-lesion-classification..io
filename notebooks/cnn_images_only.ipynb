{
 "cells": [
  {
   "cell_type": "code",
   "execution_count": null,
   "id": "55a0c60a",
   "metadata": {},
   "outputs": [],
   "source": [
    "import pandas as pd\n",
    "import numpy as np\n",
    "import tensorflow as tf\n",
    "import seaborn as sns\n",
    "import os\n",
    "from tensorflow.keras.preprocessing.image import ImageDataGenerator\n",
    "from tensorflow.keras import layers, models\n",
    "from tensorflow.keras.optimizers import Adam\n",
    "from tensorflow.keras.models import load_model\n",
    "from tensorflow.keras.callbacks import EarlyStopping, ModelCheckpoint\n",
    "import matplotlib.pyplot as plt\n"
   ]
  },
  {
   "cell_type": "code",
   "execution_count": 2,
   "id": "ce278bb6",
   "metadata": {},
   "outputs": [],
   "source": [
    "data = pd.read_csv(\"cleaned_data\\\\combined_GT_MD.csv\")"
   ]
  },
  {
   "cell_type": "code",
   "execution_count": 3,
   "id": "dce3dc7f",
   "metadata": {},
   "outputs": [
    {
     "data": {
      "text/html": [
       "<div>\n",
       "<style scoped>\n",
       "    .dataframe tbody tr th:only-of-type {\n",
       "        vertical-align: middle;\n",
       "    }\n",
       "\n",
       "    .dataframe tbody tr th {\n",
       "        vertical-align: top;\n",
       "    }\n",
       "\n",
       "    .dataframe thead th {\n",
       "        text-align: right;\n",
       "    }\n",
       "</style>\n",
       "<table border=\"1\" class=\"dataframe\">\n",
       "  <thead>\n",
       "    <tr style=\"text-align: right;\">\n",
       "      <th></th>\n",
       "      <th>image</th>\n",
       "      <th>split</th>\n",
       "      <th>MEL</th>\n",
       "      <th>NV</th>\n",
       "      <th>BCC</th>\n",
       "      <th>BKL</th>\n",
       "      <th>other</th>\n",
       "    </tr>\n",
       "  </thead>\n",
       "  <tbody>\n",
       "    <tr>\n",
       "      <th>0</th>\n",
       "      <td>ISIC_0012653_downsampled</td>\n",
       "      <td>val</td>\n",
       "      <td>0.0</td>\n",
       "      <td>1.0</td>\n",
       "      <td>0.0</td>\n",
       "      <td>0.0</td>\n",
       "      <td>0.0</td>\n",
       "    </tr>\n",
       "    <tr>\n",
       "      <th>1</th>\n",
       "      <td>ISIC_0012654_downsampled</td>\n",
       "      <td>train</td>\n",
       "      <td>0.0</td>\n",
       "      <td>1.0</td>\n",
       "      <td>0.0</td>\n",
       "      <td>0.0</td>\n",
       "      <td>0.0</td>\n",
       "    </tr>\n",
       "    <tr>\n",
       "      <th>2</th>\n",
       "      <td>ISIC_0012655_downsampled</td>\n",
       "      <td>train</td>\n",
       "      <td>0.0</td>\n",
       "      <td>1.0</td>\n",
       "      <td>0.0</td>\n",
       "      <td>0.0</td>\n",
       "      <td>0.0</td>\n",
       "    </tr>\n",
       "    <tr>\n",
       "      <th>3</th>\n",
       "      <td>ISIC_0012656_downsampled</td>\n",
       "      <td>test</td>\n",
       "      <td>0.0</td>\n",
       "      <td>1.0</td>\n",
       "      <td>0.0</td>\n",
       "      <td>0.0</td>\n",
       "      <td>0.0</td>\n",
       "    </tr>\n",
       "    <tr>\n",
       "      <th>4</th>\n",
       "      <td>ISIC_0012657_downsampled</td>\n",
       "      <td>train</td>\n",
       "      <td>0.0</td>\n",
       "      <td>1.0</td>\n",
       "      <td>0.0</td>\n",
       "      <td>0.0</td>\n",
       "      <td>0.0</td>\n",
       "    </tr>\n",
       "  </tbody>\n",
       "</table>\n",
       "</div>"
      ],
      "text/plain": [
       "                      image  split  MEL   NV  BCC  BKL  other\n",
       "0  ISIC_0012653_downsampled    val  0.0  1.0  0.0  0.0    0.0\n",
       "1  ISIC_0012654_downsampled  train  0.0  1.0  0.0  0.0    0.0\n",
       "2  ISIC_0012655_downsampled  train  0.0  1.0  0.0  0.0    0.0\n",
       "3  ISIC_0012656_downsampled   test  0.0  1.0  0.0  0.0    0.0\n",
       "4  ISIC_0012657_downsampled  train  0.0  1.0  0.0  0.0    0.0"
      ]
     },
     "execution_count": 3,
     "metadata": {},
     "output_type": "execute_result"
    }
   ],
   "source": [
    "data_image = data[['image', 'split', 'MEL', 'NV', 'BCC', 'BKL', 'other']].copy()\n",
    "data_image.head()"
   ]
  },
  {
   "cell_type": "code",
   "execution_count": 4,
   "id": "bc4fb9a4",
   "metadata": {},
   "outputs": [
    {
     "name": "stdout",
     "output_type": "stream",
     "text": [
      "class   BCC   BKL   MEL    NV  other\n",
      "split                               \n",
      "test    457   382   546  1622    368\n",
      "train  2323  1669  2958  8015   1319\n",
      "val     543   375   681  1689    300\n"
     ]
    }
   ],
   "source": [
    "data_image['class'] = data_image[['MEL', 'NV', 'BCC', 'BKL', 'other']].idxmax(axis=1)\n",
    "balance_table = data_image.groupby(['split', 'class']).size().unstack()\n",
    "print(balance_table)"
   ]
  },
  {
   "cell_type": "markdown",
   "id": "0e879ccd",
   "metadata": {},
   "source": [
    "## Creating DataFrames\n"
   ]
  },
  {
   "cell_type": "code",
   "execution_count": 5,
   "id": "e63f717f",
   "metadata": {},
   "outputs": [],
   "source": [
    "df_train = data_image[data_image['split'] == 'train'].copy()\n",
    "df_val = data_image[data_image['split'] == 'val'].copy()\n",
    "df_test = data_image[data_image['split'] == 'test'].copy()\n",
    "# Convert image names to string and append '.jpg'\n",
    "df_train['image'] = df_train['image'].astype(str) + '.jpg'\n",
    "df_val['image'] = df_val['image'].astype(str) + '.jpg'\n",
    "df_test['image'] = df_test['image'].astype(str) + '.jpg'\n"
   ]
  },
  {
   "cell_type": "markdown",
   "id": "e1fcd4d3",
   "metadata": {},
   "source": [
    "## ImageDataGenerator"
   ]
  },
  {
   "cell_type": "code",
   "execution_count": 6,
   "id": "c475ee4a",
   "metadata": {},
   "outputs": [
    {
     "name": "stdout",
     "output_type": "stream",
     "text": [
      "Found 16284 validated image filenames.\n",
      "Found 3588 validated image filenames.\n"
     ]
    }
   ],
   "source": [
    "IMG_SIZE = (224, 224)\n",
    "BATCH_SIZE = 32\n",
    "\n",
    "datagen = ImageDataGenerator(rescale=1./255)\n",
    "\n",
    "train_gen = datagen.flow_from_dataframe(\n",
    "    dataframe=df_train,\n",
    "    directory='cleaned_data\\\\ISIC_2019_Training_Input_cleaned', \n",
    "    x_col='image',\n",
    "    y_col=['MEL', 'NV', 'BCC', 'BKL', 'other'],\n",
    "    target_size=IMG_SIZE,\n",
    "    batch_size=BATCH_SIZE,\n",
    "    class_mode='raw',\n",
    "    shuffle=True\n",
    ")\n",
    "\n",
    "val_gen = datagen.flow_from_dataframe(\n",
    "    dataframe=df_val,\n",
    "    directory='cleaned_data\\\\ISIC_2019_Training_Input_cleaned',\n",
    "    x_col='image',\n",
    "    y_col=['MEL', 'NV', 'BCC', 'BKL', 'other'],\n",
    "    target_size=IMG_SIZE,\n",
    "    batch_size=BATCH_SIZE,\n",
    "    class_mode='raw',\n",
    "    shuffle=False\n",
    ")\n"
   ]
  },
  {
   "cell_type": "markdown",
   "id": "542b6fc1",
   "metadata": {},
   "source": [
    "## CNN model"
   ]
  },
  {
   "cell_type": "code",
   "execution_count": 7,
   "id": "18fdf67a",
   "metadata": {},
   "outputs": [
    {
     "name": "stderr",
     "output_type": "stream",
     "text": [
      "c:\\AI4All project\\tf_env\\lib\\site-packages\\keras\\src\\layers\\convolutional\\base_conv.py:113: UserWarning: Do not pass an `input_shape`/`input_dim` argument to a layer. When using Sequential models, prefer using an `Input(shape)` object as the first layer in the model instead.\n",
      "  super().__init__(activity_regularizer=activity_regularizer, **kwargs)\n"
     ]
    }
   ],
   "source": [
    "model = models.Sequential([\n",
    "    layers.Conv2D(32, (3, 3), activation='relu', input_shape=(*IMG_SIZE, 3)),\n",
    "    layers.MaxPooling2D(2, 2),\n",
    "    \n",
    "    layers.Conv2D(64, (3, 3), activation='relu'),\n",
    "    layers.MaxPooling2D(2, 2),\n",
    "    \n",
    "    layers.Conv2D(128, (3, 3), activation='relu'),\n",
    "    layers.MaxPooling2D(2, 2),\n",
    "    \n",
    "    layers.Flatten(),\n",
    "    layers.Dense(128, activation='relu'),\n",
    "    layers.Dense(5, activation='softmax')  \n",
    "])\n"
   ]
  },
  {
   "cell_type": "markdown",
   "id": "376ad843",
   "metadata": {},
   "source": [
    "## Training with EarlyStopping and ModelCheckpoint"
   ]
  },
  {
   "cell_type": "code",
   "execution_count": 20,
   "id": "d28c6e48",
   "metadata": {},
   "outputs": [
    {
     "name": "stdout",
     "output_type": "stream",
     "text": [
      "Epoch 1/20\n",
      "\u001b[1m509/509\u001b[0m \u001b[32m━━━━━━━━━━━━━━━━━━━━\u001b[0m\u001b[37m\u001b[0m \u001b[1m0s\u001b[0m 900ms/step - accuracy: 0.5532 - loss: 1.1732\n",
      "Epoch 1: val_accuracy improved from -inf to 0.54849, saving model to best_model.keras\n",
      "\u001b[1m509/509\u001b[0m \u001b[32m━━━━━━━━━━━━━━━━━━━━\u001b[0m\u001b[37m\u001b[0m \u001b[1m505s\u001b[0m 991ms/step - accuracy: 0.5533 - loss: 1.1731 - val_accuracy: 0.5485 - val_loss: 1.1388\n",
      "Epoch 2/20\n",
      "\u001b[1m509/509\u001b[0m \u001b[32m━━━━━━━━━━━━━━━━━━━━\u001b[0m\u001b[37m\u001b[0m \u001b[1m0s\u001b[0m 2s/step - accuracy: 0.6434 - loss: 0.9436\n",
      "Epoch 2: val_accuracy improved from 0.54849 to 0.56689, saving model to best_model.keras\n",
      "\u001b[1m509/509\u001b[0m \u001b[32m━━━━━━━━━━━━━━━━━━━━\u001b[0m\u001b[37m\u001b[0m \u001b[1m844s\u001b[0m 2s/step - accuracy: 0.6433 - loss: 0.9436 - val_accuracy: 0.5669 - val_loss: 1.1155\n",
      "Epoch 3/20\n",
      "\u001b[1m509/509\u001b[0m \u001b[32m━━━━━━━━━━━━━━━━━━━━\u001b[0m\u001b[37m\u001b[0m \u001b[1m0s\u001b[0m 8s/step - accuracy: 0.6846 - loss: 0.8228\n",
      "Epoch 3: val_accuracy improved from 0.56689 to 0.60006, saving model to best_model.keras\n",
      "\u001b[1m509/509\u001b[0m \u001b[32m━━━━━━━━━━━━━━━━━━━━\u001b[0m\u001b[37m\u001b[0m \u001b[1m3916s\u001b[0m 8s/step - accuracy: 0.6846 - loss: 0.8228 - val_accuracy: 0.6001 - val_loss: 1.0867\n",
      "Epoch 4/20\n",
      "\u001b[1m509/509\u001b[0m \u001b[32m━━━━━━━━━━━━━━━━━━━━\u001b[0m\u001b[37m\u001b[0m \u001b[1m0s\u001b[0m 499ms/step - accuracy: 0.7398 - loss: 0.6932\n",
      "Epoch 4: val_accuracy did not improve from 0.60006\n",
      "\u001b[1m509/509\u001b[0m \u001b[32m━━━━━━━━━━━━━━━━━━━━\u001b[0m\u001b[37m\u001b[0m \u001b[1m286s\u001b[0m 562ms/step - accuracy: 0.7398 - loss: 0.6932 - val_accuracy: 0.5518 - val_loss: 1.3981\n",
      "Epoch 5/20\n",
      "\u001b[1m509/509\u001b[0m \u001b[32m━━━━━━━━━━━━━━━━━━━━\u001b[0m\u001b[37m\u001b[0m \u001b[1m0s\u001b[0m 3s/step - accuracy: 0.8059 - loss: 0.5345\n",
      "Epoch 5: val_accuracy did not improve from 0.60006\n",
      "\u001b[1m509/509\u001b[0m \u001b[32m━━━━━━━━━━━━━━━━━━━━\u001b[0m\u001b[37m\u001b[0m \u001b[1m1745s\u001b[0m 3s/step - accuracy: 0.8059 - loss: 0.5345 - val_accuracy: 0.5783 - val_loss: 1.4352\n",
      "Epoch 6/20\n",
      "\u001b[1m509/509\u001b[0m \u001b[32m━━━━━━━━━━━━━━━━━━━━\u001b[0m\u001b[37m\u001b[0m \u001b[1m0s\u001b[0m 1s/step - accuracy: 0.8544 - loss: 0.4127\n",
      "Epoch 6: val_accuracy did not improve from 0.60006\n",
      "\u001b[1m509/509\u001b[0m \u001b[32m━━━━━━━━━━━━━━━━━━━━\u001b[0m\u001b[37m\u001b[0m \u001b[1m702s\u001b[0m 1s/step - accuracy: 0.8544 - loss: 0.4127 - val_accuracy: 0.5577 - val_loss: 1.7115\n",
      "Epoch 6: early stopping\n",
      "Restoring model weights from the end of the best epoch: 3.\n"
     ]
    }
   ],
   "source": [
    "early_stop = EarlyStopping(\n",
    "    monitor='val_loss',\n",
    "    patience=3,\n",
    "    restore_best_weights=True,\n",
    "    verbose=1\n",
    ")\n",
    "\n",
    "checkpoint = ModelCheckpoint(\n",
    "    'best_model.keras',\n",
    "    monitor='val_accuracy',\n",
    "    save_best_only=True,\n",
    "    verbose=1\n",
    ")\n",
    "\n",
    "history = model.fit(\n",
    "    train_gen,\n",
    "    validation_data=val_gen,\n",
    "    epochs=20,\n",
    "    callbacks=[early_stop, checkpoint]\n",
    ")"
   ]
  },
  {
   "cell_type": "code",
   "execution_count": 21,
   "id": "6be97cae",
   "metadata": {},
   "outputs": [
    {
     "data": {
      "text/plain": [
       "<Axes: title={'center': 'Loss by Epoch'}>"
      ]
     },
     "execution_count": 21,
     "metadata": {},
     "output_type": "execute_result"
    },
    {
     "data": {
      "image/png": "[encoded data removed]",
      "text/plain": [
       "<Figure size 640x480 with 1 Axes>"
      ]
     },
     "metadata": {},
     "output_type": "display_data"
    },
    {
     "data": {
      "image/png": "[encoded data removed]",
      "text/plain": [
       "<Figure size 640x480 with 1 Axes>"
      ]
     },
     "metadata": {},
     "output_type": "display_data"
    }
   ],
   "source": [
    "# Accuracy\n",
    "pd.DataFrame(history.history)[['accuracy', 'val_accuracy']].plot(\n",
    "    title='Accuracy by Epoch', grid=True\n",
    ")\n",
    "\n",
    "#Loss\n",
    "pd.DataFrame(history.history)[['loss', 'val_loss']].plot(\n",
    "    title='Loss by Epoch', grid=True\n",
    ")\n",
    "\n"
   ]
  },
  {
   "cell_type": "code",
   "execution_count": null,
   "id": "2dd35d4d",
   "metadata": {},
   "outputs": [],
   "source": []
  }
 ],
 "metadata": {
  "kernelspec": {
   "display_name": "Python 3",
   "language": "python",
   "name": "python3"
  },
  "language_info": {
   "codemirror_mode": {
    "name": "ipython",
    "version": 3
   },
   "file_extension": ".py",
   "mimetype": "text/x-python",
   "name": "python",
   "nbconvert_exporter": "python",
   "pygments_lexer": "ipython3",
   "version": "3.10.0"
  }
 },
 "nbformat": 4,
 "nbformat_minor": 5
}
