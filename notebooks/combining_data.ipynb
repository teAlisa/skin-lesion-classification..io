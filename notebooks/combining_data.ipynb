{
 "cells": [
  {
   "cell_type": "code",
   "execution_count": 18,
   "id": "7d388dca",
   "metadata": {},
   "outputs": [],
   "source": [
    "import pandas as pd\n",
    "from sklearn.model_selection import train_test_split"
   ]
  },
  {
   "cell_type": "markdown",
   "id": "bb0dae16",
   "metadata": {},
   "source": [
    "## Merging data"
   ]
  },
  {
   "cell_type": "code",
   "execution_count": 19,
   "id": "b77b859e",
   "metadata": {},
   "outputs": [],
   "source": [
    "# Load the metadata and ground truth CSV files\n",
    "df1 = pd.read_csv('cleaned_data\\\\ISIC_2019_Training_Metadata_Cleaned.csv') \n",
    "df2 = pd.read_csv('cleaned_data\\\\ISIC_2019_Training_GroundTruth_Clean.csv')  \n",
    "\n",
    "# Merge the two DataFrames on the 'image' column\n",
    "merged = pd.merge(df1, df2, on='image', how='inner')"
   ]
  },
  {
   "cell_type": "code",
   "execution_count": 20,
   "id": "9953e03c",
   "metadata": {},
   "outputs": [],
   "source": [
    "# Create a new column 'other' that is 1.0 if all of the specified columns are 0, otherwise 0\n",
    "merged[\"other\"] = (merged[[\"MEL\", \"NV\", \"BCC\", \"BKL\"]].sum(axis=1) == 0).astype(float)"
   ]
  },
  {
   "cell_type": "code",
   "execution_count": 21,
   "id": "d92d8057",
   "metadata": {},
   "outputs": [
    {
     "data": {
      "text/plain": [
       "np.float64(1987.0)"
      ]
     },
     "execution_count": 21,
     "metadata": {},
     "output_type": "execute_result"
    }
   ],
   "source": [
    "# Check the sum of the 'other' column\n",
    "merged['other'].sum()"
   ]
  },
  {
   "cell_type": "markdown",
   "id": "bc40b7c4",
   "metadata": {},
   "source": [
    "## Dividing data"
   ]
  },
  {
   "cell_type": "code",
   "execution_count": 22,
   "id": "9b89f273",
   "metadata": {},
   "outputs": [],
   "source": [
    "unique_lesions = merged['lesion_id'].unique()\n",
    "# Divide the unique lesion IDs into train, validation, and test sets\n",
    "# 70% train, 15% validation, 15% test\n",
    "train_ids, test_ids = train_test_split(unique_lesions, test_size=0.3, random_state=42)\n",
    "val_ids, test_ids = train_test_split(test_ids, test_size=0.5, random_state=42)\n",
    "merged['split'] = 'none'\n",
    "merged.loc[merged['lesion_id'].isin(train_ids), 'split'] = 'train'\n",
    "merged.loc[merged['lesion_id'].isin(val_ids), 'split'] = 'val'  \n",
    "merged.loc[merged['lesion_id'].isin(test_ids), 'split'] = 'test'"
   ]
  },
  {
   "cell_type": "markdown",
   "id": "bc19d56a",
   "metadata": {},
   "source": [
    "## Creating csv"
   ]
  },
  {
   "cell_type": "code",
   "execution_count": 23,
   "id": "6abdd31f",
   "metadata": {},
   "outputs": [],
   "source": [
    "merged.to_csv('cleaned_data/combined_GT_MD.csv', index=False)"
   ]
  }
 ],
 "metadata": {
  "kernelspec": {
   "display_name": "Python 3",
   "language": "python",
   "name": "python3"
  },
  "language_info": {
   "codemirror_mode": {
    "name": "ipython",
    "version": 3
   },
   "file_extension": ".py",
   "mimetype": "text/x-python",
   "name": "python",
   "nbconvert_exporter": "python",
   "pygments_lexer": "ipython3",
   "version": "3.13.4"
  }
 },
 "nbformat": 4,
 "nbformat_minor": 5
}
